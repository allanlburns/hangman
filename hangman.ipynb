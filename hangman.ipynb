{
 "cells": [
  {
   "cell_type": "code",
   "execution_count": 81,
   "metadata": {},
   "outputs": [
    {
     "name": "stdout",
     "output_type": "stream",
     "text": [
      "--v-----Which letter would you like to guess? b\n",
      "letter not in word\n",
      "lives remaining =  0\n",
      "Sorry! You lost....\n"
     ]
    }
   ],
   "source": [
    "### from IPython.display import clear_output\n",
    "import time\n",
    "\n",
    "word = 'Chvrches'\n",
    "guessed_letters = []\n",
    "required_letters = set(list(word.lower()))\n",
    "lives = 5\n",
    "\n",
    "while lives > 0:\n",
    "    clear_output()\n",
    "    # loop to display letters:\n",
    "    for char in word:\n",
    "        if char.lower() in guessed_letters:\n",
    "            print(char, end='')\n",
    "        else:\n",
    "            print('-', end=\"\")\n",
    "\n",
    "    letter = input(\"Which letter would you like to guess? \").lower()\n",
    "\n",
    "    # loop to handle guessed letters\n",
    "\n",
    "    if letter in word and letter not in guessed_letters and not '':\n",
    "        required_letters.remove(letter)\n",
    "        guessed_letters.append(letter)\n",
    "        print(\"You're correct!\")\n",
    "    if len(required_letters) <= 0:\n",
    "        clear_output()\n",
    "        print(\"You win!!!!\")\n",
    "        print(word)\n",
    "        break\n",
    "    elif letter in word:\n",
    "        print(\"You already guessed that letter. Guess another. \")\n",
    "    else:\n",
    "        print(\"letter not in word\")\n",
    "        lives -= 1\n",
    "        print(\"lives remaining = \", lives)\n",
    "        time.sleep(3)\n",
    "print(\"Sorry! You lost....\")\n"
   ]
  },
  {
   "cell_type": "code",
   "execution_count": 17,
   "metadata": {},
   "outputs": [
    {
     "name": "stdout",
     "output_type": "stream",
     "text": [
      "Goodbye! See you soon!\n"
     ]
    }
   ],
   "source": [
    "import time, random\n",
    "from IPython.display import clear_output\n",
    "\n",
    "def game():\n",
    "    # to start, only single words. TODO: Handle spaces in words\n",
    "    categories = {\n",
    "        \"animals\": ['lion', 'tiger', 'bear', 'cat', 'dog', 'chupacabras', 'snake', 'zebra', 'turtle',\n",
    "                   'elephan'],\n",
    "         \"countries\": ['Mexico', 'Canada', 'Spain', 'Turkey', 'Germany', 'Ethiopia', 'Latvia']   \n",
    "    }\n",
    "    \n",
    "    playing = True\n",
    "    \n",
    "    while playing:\n",
    "        clear_output()\n",
    "        print(\"Categories: \")\n",
    "        for category in categories.keys():\n",
    "            print('\\t', category)\n",
    "        category = input(\"To play, please select a category. Type 'q' to quit. \").lower()\n",
    "        \n",
    "        if category == 'q':\n",
    "            playing = False\n",
    "            clear_output()\n",
    "            print(\"Goodbye! See you soon!\")\n",
    "        elif category == 'animals':\n",
    "            current_word = random.choice(categories[\"animals\"])\n",
    "            print(current_word)\n",
    "            time.sleep(3)\n",
    "        elif category == 'countries':\n",
    "            current_word = random.choice(categories[\"countries\"])\n",
    "            print(current_word)\n",
    "            time.sleep(3)\n",
    "        else:\n",
    "            clear_output()\n",
    "            print(\"Please enter a valid choice. \")\n",
    "            time.sleep(3)\n",
    "            \n",
    "game()"
   ]
  }
 ],
 "metadata": {
  "kernelspec": {
   "display_name": "Python 3",
   "language": "python",
   "name": "python3"
  }
 },
 "nbformat": 4,
 "nbformat_minor": 2
}
